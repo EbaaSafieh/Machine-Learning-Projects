{
 "cells": [
  {
   "cell_type": "code",
   "execution_count": 1,
   "metadata": {},
   "outputs": [],
   "source": [
    "from sklearn.metrics import mean_squared_error\n",
    "import pandas as pd\n",
    "from sklearn.model_selection import train_test_split\n",
    "from sklearn.linear_model import LinearRegression\n",
    "from sklearn.model_selection import train_test_split, GridSearchCV\n",
    "import pandas as pd\n",
    "from datetime import datetime\n",
    "from sklearn.ensemble import RandomForestRegressor\n",
    "from sklearn.linear_model import Lasso\n",
    "import numpy as np\n",
    "from sklearn.ensemble import GradientBoostingRegressor\n"
   ]
  },
  {
   "cell_type": "code",
   "execution_count": 2,
   "metadata": {},
   "outputs": [],
   "source": [
    "\n",
    "file_path = 'C:\\\\Users\\\\ebaa0\\\\Desktop\\\\after_edit.xlsx'\n",
    "df = pd.read_excel(file_path)"
   ]
  },
  {
   "cell_type": "code",
   "execution_count": 3,
   "metadata": {},
   "outputs": [
    {
     "data": {
      "text/html": [
       "<div>\n",
       "<style scoped>\n",
       "    .dataframe tbody tr th:only-of-type {\n",
       "        vertical-align: middle;\n",
       "    }\n",
       "\n",
       "    .dataframe tbody tr th {\n",
       "        vertical-align: top;\n",
       "    }\n",
       "\n",
       "    .dataframe thead th {\n",
       "        text-align: right;\n",
       "    }\n",
       "</style>\n",
       "<table border=\"1\" class=\"dataframe\">\n",
       "  <thead>\n",
       "    <tr style=\"text-align: right;\">\n",
       "      <th></th>\n",
       "      <th>Date</th>\n",
       "      <th>Time</th>\n",
       "      <th>Number of Orders</th>\n",
       "    </tr>\n",
       "  </thead>\n",
       "  <tbody>\n",
       "    <tr>\n",
       "      <th>0</th>\n",
       "      <td>2021-01-02</td>\n",
       "      <td>7 AM</td>\n",
       "      <td>NaN</td>\n",
       "    </tr>\n",
       "    <tr>\n",
       "      <th>1</th>\n",
       "      <td>2021-01-02</td>\n",
       "      <td>8 AM</td>\n",
       "      <td>2.0</td>\n",
       "    </tr>\n",
       "    <tr>\n",
       "      <th>2</th>\n",
       "      <td>2021-01-02</td>\n",
       "      <td>9 AM</td>\n",
       "      <td>26.0</td>\n",
       "    </tr>\n",
       "    <tr>\n",
       "      <th>3</th>\n",
       "      <td>2021-01-02</td>\n",
       "      <td>10 AM</td>\n",
       "      <td>67.0</td>\n",
       "    </tr>\n",
       "    <tr>\n",
       "      <th>4</th>\n",
       "      <td>2021-01-02</td>\n",
       "      <td>11 AM</td>\n",
       "      <td>86.0</td>\n",
       "    </tr>\n",
       "    <tr>\n",
       "      <th>...</th>\n",
       "      <td>...</td>\n",
       "      <td>...</td>\n",
       "      <td>...</td>\n",
       "    </tr>\n",
       "    <tr>\n",
       "      <th>8395</th>\n",
       "      <td>2022-09-30</td>\n",
       "      <td>4 PM</td>\n",
       "      <td>35.0</td>\n",
       "    </tr>\n",
       "    <tr>\n",
       "      <th>8396</th>\n",
       "      <td>2022-09-30</td>\n",
       "      <td>5 PM</td>\n",
       "      <td>21.0</td>\n",
       "    </tr>\n",
       "    <tr>\n",
       "      <th>8397</th>\n",
       "      <td>2022-09-30</td>\n",
       "      <td>6 PM</td>\n",
       "      <td>22.0</td>\n",
       "    </tr>\n",
       "    <tr>\n",
       "      <th>8398</th>\n",
       "      <td>2022-09-30</td>\n",
       "      <td>7 PM</td>\n",
       "      <td>NaN</td>\n",
       "    </tr>\n",
       "    <tr>\n",
       "      <th>8399</th>\n",
       "      <td>2022-09-30</td>\n",
       "      <td>8 PM</td>\n",
       "      <td>NaN</td>\n",
       "    </tr>\n",
       "  </tbody>\n",
       "</table>\n",
       "<p>8400 rows × 3 columns</p>\n",
       "</div>"
      ],
      "text/plain": [
       "           Date   Time  Number of Orders\n",
       "0    2021-01-02   7 AM               NaN\n",
       "1    2021-01-02   8 AM               2.0\n",
       "2    2021-01-02   9 AM              26.0\n",
       "3    2021-01-02  10 AM              67.0\n",
       "4    2021-01-02  11 AM              86.0\n",
       "...         ...    ...               ...\n",
       "8395 2022-09-30   4 PM              35.0\n",
       "8396 2022-09-30   5 PM              21.0\n",
       "8397 2022-09-30   6 PM              22.0\n",
       "8398 2022-09-30   7 PM               NaN\n",
       "8399 2022-09-30   8 PM               NaN\n",
       "\n",
       "[8400 rows x 3 columns]"
      ]
     },
     "execution_count": 3,
     "metadata": {},
     "output_type": "execute_result"
    }
   ],
   "source": [
    "df"
   ]
  },
  {
   "cell_type": "code",
   "execution_count": 4,
   "metadata": {},
   "outputs": [
    {
     "name": "stdout",
     "output_type": "stream",
     "text": [
      "Missing values in y_train_clean: 0\n",
      "Number of rows in X_train_clean: 5565\n",
      "Number of rows in y_train_clean: 5565\n"
     ]
    },
    {
     "name": "stderr",
     "output_type": "stream",
     "text": [
      "C:\\Users\\ebaa0\\AppData\\Local\\Temp\\ipykernel_20264\\1475215181.py:6: SettingWithCopyWarning: \n",
      "A value is trying to be set on a copy of a slice from a DataFrame\n",
      "\n",
      "See the caveats in the documentation: https://pandas.pydata.org/pandas-docs/stable/user_guide/indexing.html#returning-a-view-versus-a-copy\n",
      "  y.loc[1] = None  # Introducing a missing value for demonstration\n"
     ]
    }
   ],
   "source": [
    "y= df['Number of Orders']\n",
    "X = df.drop(columns=['Number of Orders'])\n",
    "\n",
    "\n",
    "\n",
    "y.loc[1] = None  \n",
    "\n",
    "\n",
    "missing_indices = y[y.isnull()].index\n",
    "\n",
    "\n",
    "X_clean = X.drop(index=missing_indices)\n",
    "y_clean = y.drop(index=missing_indices)\n",
    "\n",
    "\n",
    "print(\"Missing values in y_train_clean:\", y_clean.isnull().sum())\n",
    "print(\"Number of rows in X_train_clean:\", X_clean.shape[0])\n",
    "print(\"Number of rows in y_train_clean:\", y_clean.shape[0])"
   ]
  },
  {
   "cell_type": "code",
   "execution_count": 5,
   "metadata": {},
   "outputs": [
    {
     "data": {
      "text/plain": [
       "2        26.0\n",
       "3        67.0\n",
       "4        86.0\n",
       "5       123.0\n",
       "6        60.0\n",
       "        ...  \n",
       "8391     57.0\n",
       "8394      5.0\n",
       "8395     35.0\n",
       "8396     21.0\n",
       "8397     22.0\n",
       "Name: Number of Orders, Length: 5565, dtype: float64"
      ]
     },
     "execution_count": 5,
     "metadata": {},
     "output_type": "execute_result"
    }
   ],
   "source": [
    "y_clean"
   ]
  },
  {
   "cell_type": "code",
   "execution_count": 6,
   "metadata": {},
   "outputs": [
    {
     "data": {
      "text/plain": [
       "0"
      ]
     },
     "execution_count": 6,
     "metadata": {},
     "output_type": "execute_result"
    }
   ],
   "source": [
    "\n",
    "y_clean.isnull().sum()"
   ]
  },
  {
   "cell_type": "code",
   "execution_count": 7,
   "metadata": {},
   "outputs": [
    {
     "data": {
      "text/plain": [
       "2        26.0\n",
       "3        67.0\n",
       "4        86.0\n",
       "5       123.0\n",
       "6        60.0\n",
       "        ...  \n",
       "8391     57.0\n",
       "8394      5.0\n",
       "8395     35.0\n",
       "8396     21.0\n",
       "8397     22.0\n",
       "Name: Number of Orders, Length: 5565, dtype: float64"
      ]
     },
     "execution_count": 7,
     "metadata": {},
     "output_type": "execute_result"
    }
   ],
   "source": [
    "y_clean"
   ]
  },
  {
   "cell_type": "code",
   "execution_count": 8,
   "metadata": {},
   "outputs": [
    {
     "name": "stdout",
     "output_type": "stream",
     "text": [
      "              Date   Time\n",
      "2     1.609546e+09  32400\n",
      "3     1.609546e+09  36000\n",
      "4     1.609546e+09  39600\n",
      "5     1.609546e+09  43200\n",
      "6     1.609546e+09  46800\n",
      "...            ...    ...\n",
      "8391  1.664496e+09  43200\n",
      "8394  1.664496e+09  54000\n",
      "8395  1.664496e+09  57600\n",
      "8396  1.664496e+09  61200\n",
      "8397  1.664496e+09  64800\n",
      "\n",
      "[5565 rows x 2 columns]\n"
     ]
    }
   ],
   "source": [
    "\n",
    "X_clean['Date'] = pd.to_datetime(X_clean['Date'])\n",
    "\n",
    "\n",
    "X_clean['Date'] = X_clean['Date'].apply(lambda x: x.timestamp())\n",
    "\n",
    "\n",
    "X_clean['Time'] = pd.to_datetime(X_clean['Time'], format='%I %p').dt.hour * 3600\n",
    "\n",
    "\n",
    "print(X_clean)"
   ]
  },
  {
   "cell_type": "code",
   "execution_count": 9,
   "metadata": {},
   "outputs": [],
   "source": [
    "\n",
    "X_train, X_test, y_train, y_test = train_test_split(X_clean, y_clean, test_size = 0.2)"
   ]
  },
  {
   "cell_type": "code",
   "execution_count": 10,
   "metadata": {},
   "outputs": [
    {
     "name": "stdout",
     "output_type": "stream",
     "text": [
      "Size of X_train: (4452, 2)\n",
      "Size of y_train: (4452,)\n"
     ]
    }
   ],
   "source": [
    "print(\"Size of X_train:\", X_train.shape)\n",
    "print(\"Size of y_train:\", y_train.shape)\n"
   ]
  },
  {
   "cell_type": "code",
   "execution_count": 11,
   "metadata": {},
   "outputs": [
    {
     "name": "stdout",
     "output_type": "stream",
     "text": [
      "Sample X_train data:\n",
      "               Date   Time\n",
      "7263  1.657325e+09  64800\n",
      "5247  1.644624e+09  64800\n",
      "6106  1.650154e+09  32400\n",
      "566   1.613606e+09  46800\n",
      "6563  1.653005e+09  64800\n",
      "Sample y_train data:\n",
      " 7263    23.0\n",
      "5247     7.0\n",
      "6106    91.0\n",
      "566     33.0\n",
      "6563    17.0\n",
      "Name: Number of Orders, dtype: float64\n"
     ]
    }
   ],
   "source": [
    "print(\"Sample X_train data:\\n\", X_train.head())\n",
    "print(\"Sample y_train data:\\n\", y_train.head())"
   ]
  },
  {
   "cell_type": "code",
   "execution_count": 12,
   "metadata": {},
   "outputs": [
    {
     "name": "stdout",
     "output_type": "stream",
     "text": [
      "linear model coeff (w) [ 8.8992469e-08 -8.4333727e-04]\n",
      "linear model intercept (b) -67.24535297363906\n",
      "R-squared score (training) 0.09516915279928562\n",
      "R-squared score (test) 0.09748222680053564\n"
     ]
    }
   ],
   "source": [
    "\n",
    "LinearRegression_modle = LinearRegression()\n",
    "\n",
    "LinearRegression_modle.fit(X_train,y_train)\n",
    "\n",
    "print('linear model coeff (w)', LinearRegression_modle.coef_)\n",
    "print('linear model intercept (b)' , LinearRegression_modle.intercept_)\n",
    "print('R-squared score (training)', LinearRegression_modle.score(X_train, y_train))\n",
    "print('R-squared score (test)', LinearRegression_modle.score(X_test,y_test))"
   ]
  },
  {
   "cell_type": "code",
   "execution_count": 13,
   "metadata": {},
   "outputs": [
    {
     "name": "stdout",
     "output_type": "stream",
     "text": [
      "lasso regression linear model intercept: -67.2460196959461\n",
      "lasso regression linear model coeff:\n",
      "[ 8.89925783e-08 -8.43326082e-04]\n",
      "Non-zero features: 2\n",
      "R-squared score (training): 0.095\n",
      "R-squared score (test): 0.097\n",
      "\n"
     ]
    }
   ],
   "source": [
    "\n",
    "lasso_model = Lasso(alpha=2.0, max_iter = 10000).fit(X_train, y_train)\n",
    "\n",
    "print('lasso regression linear model intercept: {}'\n",
    "     .format(lasso_model.intercept_))\n",
    "print('lasso regression linear model coeff:\\n{}'\n",
    "     .format(lasso_model.coef_))\n",
    "print('Non-zero features: {}'\n",
    "     .format(np.sum(lasso_model.coef_ != 0)))\n",
    "print('R-squared score (training): {:.3f}'\n",
    "     .format(lasso_model.score(X_train, y_train)))\n",
    "print('R-squared score (test): {:.3f}\\n'\n",
    "     .format(lasso_model.score(X_test, y_test)))"
   ]
  },
  {
   "cell_type": "code",
   "execution_count": 14,
   "metadata": {},
   "outputs": [
    {
     "name": "stdout",
     "output_type": "stream",
     "text": [
      "lasso regression linear model intercept: -67.24535297363892\n",
      "lasso regression linear model coeff:\n",
      "[ 8.8992469e-08 -8.4333727e-04]\n",
      "Non-zero features: 2\n",
      "R-squared score (training): 0.095\n",
      "R-squared score (test): 0.097\n",
      "\n"
     ]
    },
    {
     "name": "stderr",
     "output_type": "stream",
     "text": [
      "C:\\Users\\ebaa0\\AppData\\Roaming\\Python\\Python310\\site-packages\\sklearn\\base.py:1473: UserWarning: With alpha=0, this algorithm does not converge well. You are advised to use the LinearRegression estimator\n",
      "  return fit_method(estimator, *args, **kwargs)\n",
      "C:\\Users\\ebaa0\\AppData\\Roaming\\Python\\Python310\\site-packages\\sklearn\\linear_model\\_coordinate_descent.py:697: UserWarning: Coordinate descent with no regularization may lead to unexpected results and is discouraged.\n",
      "  model = cd_fast.enet_coordinate_descent(\n",
      "C:\\Users\\ebaa0\\AppData\\Roaming\\Python\\Python310\\site-packages\\sklearn\\linear_model\\_coordinate_descent.py:697: ConvergenceWarning: Objective did not converge. You might want to increase the number of iterations, check the scale of the features or consider increasing regularisation. Duality gap: 2.740e+06, tolerance: 6.057e+02 Linear regression models with null weight for the l1 regularization term are more efficiently fitted using one of the solvers implemented in sklearn.linear_model.Ridge/RidgeCV instead.\n",
      "  model = cd_fast.enet_coordinate_descent(\n"
     ]
    }
   ],
   "source": [
    "\n",
    "\n",
    "lasso_model_0 = Lasso(alpha=0.0, max_iter = 500).fit(X_train, y_train)\n",
    "\n",
    "print('lasso regression linear model intercept: {}'\n",
    "     .format(lasso_model_0.intercept_))\n",
    "print('lasso regression linear model coeff:\\n{}'\n",
    "     .format(lasso_model_0.coef_))\n",
    "print('Non-zero features: {}'\n",
    "     .format(np.sum(lasso_model_0.coef_ != 0)))\n",
    "print('R-squared score (training): {:.3f}'\n",
    "     .format(lasso_model_0.score(X_train, y_train)))\n",
    "print('R-squared score (test): {:.3f}\\n'\n",
    "     .format(lasso_model_0.score(X_test, y_test)))"
   ]
  },
  {
   "cell_type": "code",
   "execution_count": 15,
   "metadata": {},
   "outputs": [
    {
     "name": "stdout",
     "output_type": "stream",
     "text": [
      "lasso regression linear model intercept: -67.24568649822865\n",
      "lasso regression linear model coeff:\n",
      "[ 8.89925238e-08 -8.43331676e-04]\n",
      "Non-zero features: 2\n",
      "R-squared score (training): 0.095\n",
      "R-squared score (test): 0.097\n",
      "\n"
     ]
    }
   ],
   "source": [
    "\n",
    "\n",
    "lasso_model_1 = Lasso(alpha=1.0, max_iter = 5000).fit(X_train, y_train)\n",
    "\n",
    "print('lasso regression linear model intercept: {}'\n",
    "     .format(lasso_model_1.intercept_))\n",
    "print('lasso regression linear model coeff:\\n{}'\n",
    "     .format(lasso_model_1.coef_))\n",
    "print('Non-zero features: {}'\n",
    "     .format(np.sum(lasso_model_1.coef_ != 0)))\n",
    "print('R-squared score (training): {:.3f}'\n",
    "     .format(lasso_model_1.score(X_train, y_train)))\n",
    "print('R-squared score (test): {:.3f}\\n'\n",
    "     .format(lasso_model_1.score(X_test, y_test)))"
   ]
  },
  {
   "cell_type": "code",
   "execution_count": 39,
   "metadata": {},
   "outputs": [
    {
     "name": "stdout",
     "output_type": "stream",
     "text": [
      "R-squared score (train): 0.955\n",
      "\n",
      "R-squared score (test): 0.742\n",
      "\n"
     ]
    }
   ],
   "source": [
    "\n",
    "\n",
    "rf_model=RandomForestRegressor(n_estimators=10)\n",
    "rf_model.fit(X_train, y_train)\n",
    "print('R-squared score (train): {:.3f}\\n'\n",
    "     .format(rf_model.score(X_train, y_train)))\n",
    "print('R-squared score (test): {:.3f}\\n'\n",
    "     .format(rf_model.score(X_test, y_test)))"
   ]
  },
  {
   "cell_type": "code",
   "execution_count": 17,
   "metadata": {},
   "outputs": [
    {
     "name": "stdout",
     "output_type": "stream",
     "text": [
      "R-squared score (test): 0.760\n",
      "\n"
     ]
    }
   ],
   "source": [
    "rf_model1=RandomForestRegressor(n_estimators=200)\n",
    "rf_model1.fit(X_train, y_train)\n",
    "print('R-squared score (test): {:.3f}\\n'\n",
    "     .format(rf_model1.score(X_test, y_test)))"
   ]
  },
  {
   "cell_type": "code",
   "execution_count": 18,
   "metadata": {},
   "outputs": [
    {
     "name": "stdout",
     "output_type": "stream",
     "text": [
      "R-squared score (test): 0.754\n",
      "\n"
     ]
    }
   ],
   "source": [
    "rf_model2=RandomForestRegressor(n_estimators=50,max_features=16,max_depth=20,)\n",
    "rf_model2.fit(X_train, y_train)\n",
    "print('R-squared score (test): {:.3f}\\n'\n",
    "     .format(rf_model2.score(X_test, y_test)))"
   ]
  },
  {
   "cell_type": "code",
   "execution_count": 19,
   "metadata": {},
   "outputs": [
    {
     "name": "stdout",
     "output_type": "stream",
     "text": [
      "R-squared score (test): 0.759\n",
      "\n"
     ]
    }
   ],
   "source": [
    "rf_model3=RandomForestRegressor(n_estimators=50,max_features=4,min_samples_split=3)\n",
    "rf_model3.fit(X_train, y_train)\n",
    "print('R-squared score (test): {:.3f}\\n'\n",
    "     .format(rf_model3.score(X_test, y_test)))"
   ]
  },
  {
   "cell_type": "code",
   "execution_count": 20,
   "metadata": {},
   "outputs": [
    {
     "name": "stdout",
     "output_type": "stream",
     "text": [
      "R-squared score (test): 0.759\n",
      "\n",
      "Random Forest MSE: 355.91231737556154\n"
     ]
    }
   ],
   "source": [
    "rf_model4=RandomForestRegressor(n_estimators=1000,max_features=20,max_depth=40,)\n",
    "rf_model4.fit(X_train, y_train)\n",
    "print('R-squared score (test): {:.3f}\\n'\n",
    "     .format(rf_model4.score(X_test, y_test)))\n",
    "y_pred_rf = rf_model4.predict(X_test)\n",
    "print(f\"Random Forest MSE: {mean_squared_error(y_test, y_pred_rf)}\")"
   ]
  },
  {
   "cell_type": "code",
   "execution_count": 40,
   "metadata": {},
   "outputs": [
    {
     "name": "stdout",
     "output_type": "stream",
     "text": [
      "Fitting 5 folds for each of 108 candidates, totalling 540 fits\n",
      "Best Parameters: {'max_depth': None, 'min_samples_leaf': 1, 'min_samples_split': 2, 'n_estimators': 100}\n",
      "R-squared score (test): 0.754\n"
     ]
    }
   ],
   "source": [
    "\n",
    "\n",
    "param_grid = {\n",
    "    'n_estimators': [50, 100, 200],\n",
    "    'max_depth': [None, 10, 20, 30],\n",
    "    'min_samples_split': [2, 5, 10],\n",
    "    'min_samples_leaf': [1, 2, 4]\n",
    "}\n",
    "\n",
    "\n",
    "rf_model = RandomForestRegressor()\n",
    "\n",
    "\n",
    "grid_search = GridSearchCV(estimator=rf_model, param_grid=param_grid, cv=5, n_jobs=-1, verbose=2)\n",
    "grid_search.fit(X_train, y_train)\n",
    "\n",
    "\n",
    "print('Best Parameters:', grid_search.best_params_)\n",
    "\n",
    "\n",
    "best_rf_model = grid_search.best_estimator_\n",
    "print('R-squared score (test): {:.3f}'.format(best_rf_model.score(X_test, y_test)))\n"
   ]
  },
  {
   "cell_type": "code",
   "execution_count": 41,
   "metadata": {},
   "outputs": [
    {
     "name": "stdout",
     "output_type": "stream",
     "text": [
      "R-squared score (train): 0.965\n"
     ]
    }
   ],
   "source": [
    "print('R-squared score (train): {:.3f}'.format(best_rf_model.score(X_train, y_train)))"
   ]
  },
  {
   "cell_type": "code",
   "execution_count": 44,
   "metadata": {},
   "outputs": [
    {
     "name": "stdout",
     "output_type": "stream",
     "text": [
      "R-squared score (test): 0.669\n",
      "R-squared score (train): 0.677\n",
      "Mean Squared Error (MSE): 489.040\n"
     ]
    }
   ],
   "source": [
    "\n",
    "\n",
    "gbm_model = GradientBoostingRegressor(n_estimators=100, learning_rate=0.1, max_depth=3, random_state=42)\n",
    "\n",
    "\n",
    "gbm_model.fit(X_train, y_train)\n",
    "\n",
    "\n",
    "y_pred = gbm_model.predict(X_test)\n",
    "\n",
    "\n",
    "mse = mean_squared_error(y_test, y_pred)\n",
    "r_squared = gbm_model.score(X_test, y_test)\n",
    "r_squared2 = gbm_model.score(X_train, y_train)\n",
    "\n",
    "print(f'R-squared score (test): {r_squared:.3f}')\n",
    "print(f'R-squared score (train): {r_squared2:.3f}')\n",
    "print(f'Mean Squared Error (MSE): {mse:.3f}')\n"
   ]
  },
  {
   "cell_type": "code",
   "execution_count": 46,
   "metadata": {},
   "outputs": [
    {
     "name": "stdout",
     "output_type": "stream",
     "text": [
      "Fitting 5 folds for each of 27 candidates, totalling 135 fits\n",
      "Best Parameters: {'learning_rate': 0.2, 'max_depth': 5, 'n_estimators': 150}\n",
      "R-squared score (test): 0.806\n",
      "R-squared score (train): 0.901\n",
      "Mean Squared Error (MSE): 286.082\n"
     ]
    }
   ],
   "source": [
    "\n",
    "\n",
    "param_grid = {\n",
    "    'n_estimators': [50, 100, 150],\n",
    "    'learning_rate': [0.01, 0.1, 0.2],\n",
    "    'max_depth': [3, 4, 5]\n",
    "}\n",
    "\n",
    "\n",
    "gbm_model = GradientBoostingRegressor(random_state=42)\n",
    "\n",
    "\n",
    "grid_search = GridSearchCV(estimator=gbm_model, param_grid=param_grid, cv=5, n_jobs=-1, verbose=2)\n",
    "grid_search.fit(X_train, y_train)\n",
    "\n",
    "\n",
    "print('Best Parameters:', grid_search.best_params_)\n",
    "\n",
    "\n",
    "best_gbm_model = grid_search.best_estimator_\n",
    "print('R-squared score (test): {:.3f}'.format(best_gbm_model.score(X_test, y_test)))\n",
    "print('R-squared score (train): {:.3f}'.format(best_gbm_model.score(X_train, y_train)))\n",
    "print('Mean Squared Error (MSE): {:.3f}'.format(mean_squared_error(y_test, best_gbm_model.predict(X_test))))\n"
   ]
  },
  {
   "cell_type": "code",
   "execution_count": 47,
   "metadata": {},
   "outputs": [
    {
     "name": "stdout",
     "output_type": "stream",
     "text": [
      "R-squared score (test): 0.806\n",
      "R-squared score (train): 0.901\n",
      "Mean Squared Error (MSE): 286.082\n"
     ]
    }
   ],
   "source": [
    "\n",
    "\n",
    "\n",
    "best_gbm_model = GradientBoostingRegressor(\n",
    "    learning_rate=0.2, \n",
    "    max_depth=5, \n",
    "    n_estimators=150, \n",
    "    random_state=42\n",
    ")\n",
    "\n",
    "\n",
    "best_gbm_model.fit(X_train, y_train)\n",
    "\n",
    "\n",
    "y_pred = best_gbm_model.predict(X_test)\n",
    "\n",
    "\n",
    "mse = mean_squared_error(y_test, y_pred)\n",
    "r_squared = best_gbm_model.score(X_test, y_test)\n",
    "r_squared_train = best_gbm_model.score(X_train, y_train)\n",
    "\n",
    "print(f'R-squared score (test): {r_squared:.3f}')\n",
    "print(f'R-squared score (train): {r_squared_train:.3f}')\n",
    "print(f'Mean Squared Error (MSE): {mse:.3f}')\n"
   ]
  },
  {
   "cell_type": "code",
   "execution_count": 67,
   "metadata": {},
   "outputs": [
    {
     "name": "stdout",
     "output_type": "stream",
     "text": [
      "New data for prediction:\n",
      "            Date   Time\n",
      "0  1.703290e+09  39600\n"
     ]
    }
   ],
   "source": [
    "\n",
    "\n",
    "input_date = '12/23/2023'  \n",
    "input_time = '11:00'       \n",
    "\n",
    "\n",
    "date_timestamp = pd.to_datetime(input_date).timestamp()\n",
    "\n",
    "\n",
    "time_dt = pd.to_datetime(input_time, format='%H:%M')\n",
    "time_seconds = time_dt.hour * 3600 + time_dt.minute * 60\n",
    "\n",
    "\n",
    "new_data = pd.DataFrame({\n",
    "    'Date': [date_timestamp],\n",
    "    'Time': [time_seconds]\n",
    "})\n",
    "\n",
    "print(\"New data for prediction:\\n\", new_data)\n"
   ]
  },
  {
   "cell_type": "code",
   "execution_count": 68,
   "metadata": {},
   "outputs": [
    {
     "name": "stdout",
     "output_type": "stream",
     "text": [
      "Predicted number of orders: 61.92\n"
     ]
    }
   ],
   "source": [
    "y_pred = best_gbm_model.predict(new_data)\n",
    "\n",
    "print(f\"Predicted number of orders: {y_pred[0]:.2f}\")\n"
   ]
  },
  {
   "cell_type": "code",
   "execution_count": null,
   "metadata": {},
   "outputs": [],
   "source": []
  }
 ],
 "metadata": {
  "kernelspec": {
   "display_name": "Python 3",
   "language": "python",
   "name": "python3"
  },
  "language_info": {
   "codemirror_mode": {
    "name": "ipython",
    "version": 3
   },
   "file_extension": ".py",
   "mimetype": "text/x-python",
   "name": "python",
   "nbconvert_exporter": "python",
   "pygments_lexer": "ipython3",
   "version": "3.10.9"
  }
 },
 "nbformat": 4,
 "nbformat_minor": 2
}
