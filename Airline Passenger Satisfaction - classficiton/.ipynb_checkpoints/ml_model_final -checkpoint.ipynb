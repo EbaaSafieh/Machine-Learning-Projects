{
 "cells": [
  {
   "cell_type": "code",
   "execution_count": 1,
   "metadata": {},
   "outputs": [],
   "source": [
    "import sklearn\n",
    "import pandas as pd\n",
    "import numpy as np\n",
    "\n",
    "df = pd.read_csv('train.csv')"
   ]
  },
  {
   "cell_type": "code",
   "execution_count": 2,
   "metadata": {},
   "outputs": [],
   "source": [
    "\n",
    "y=df['satisfaction']\n"
   ]
  },
  {
   "cell_type": "code",
   "execution_count": 3,
   "metadata": {},
   "outputs": [
    {
     "data": {
      "text/plain": [
       "Unnamed: 0                             0\n",
       "id                                     0\n",
       "Gender                                 0\n",
       "Customer Type                          0\n",
       "Age                                    0\n",
       "Type of Travel                         0\n",
       "Class                                  0\n",
       "Flight Distance                        0\n",
       "Inflight wifi service                  0\n",
       "Departure/Arrival time convenient      0\n",
       "Ease of Online booking                 0\n",
       "Gate location                          0\n",
       "Food and drink                         0\n",
       "Online boarding                        0\n",
       "Seat comfort                           0\n",
       "Inflight entertainment                 0\n",
       "On-board service                       0\n",
       "Leg room service                       0\n",
       "Baggage handling                       0\n",
       "Checkin service                        0\n",
       "Inflight service                       0\n",
       "Cleanliness                            0\n",
       "Departure Delay in Minutes             0\n",
       "Arrival Delay in Minutes             310\n",
       "dtype: int64"
      ]
     },
     "execution_count": 3,
     "metadata": {},
     "output_type": "execute_result"
    }
   ],
   "source": [
    "X = df.loc[:, df.columns != 'satisfaction']\n",
    "X.isnull().sum()"
   ]
  },
  {
   "cell_type": "code",
   "execution_count": 4,
   "metadata": {},
   "outputs": [
    {
     "name": "stderr",
     "output_type": "stream",
     "text": [
      "C:\\Users\\ebaa0\\anaconda3\\lib\\site-packages\\sklearn\\preprocessing\\_label.py:99: DataConversionWarning: A column-vector y was passed when a 1d array was expected. Please change the shape of y to (n_samples, ), for example using ravel().\n",
      "  y = column_or_1d(y, warn=True)\n",
      "C:\\Users\\ebaa0\\anaconda3\\lib\\site-packages\\sklearn\\preprocessing\\_label.py:134: DataConversionWarning: A column-vector y was passed when a 1d array was expected. Please change the shape of y to (n_samples, ), for example using ravel().\n",
      "  y = column_or_1d(y, dtype=self.classes_.dtype, warn=True)\n"
     ]
    }
   ],
   "source": [
    "from sklearn.preprocessing import LabelEncoder\n",
    "l = LabelEncoder()\n",
    "l.fit(X[['Gender']])\n",
    "df['Gender_res'] = l.transform(df[['Gender']])\n",
    "df = df.drop('Gender', axis=1)"
   ]
  },
  {
   "cell_type": "code",
   "execution_count": 5,
   "metadata": {},
   "outputs": [
    {
     "name": "stderr",
     "output_type": "stream",
     "text": [
      "C:\\Users\\ebaa0\\anaconda3\\lib\\site-packages\\sklearn\\preprocessing\\_label.py:99: DataConversionWarning: A column-vector y was passed when a 1d array was expected. Please change the shape of y to (n_samples, ), for example using ravel().\n",
      "  y = column_or_1d(y, warn=True)\n",
      "C:\\Users\\ebaa0\\anaconda3\\lib\\site-packages\\sklearn\\preprocessing\\_label.py:134: DataConversionWarning: A column-vector y was passed when a 1d array was expected. Please change the shape of y to (n_samples, ), for example using ravel().\n",
      "  y = column_or_1d(y, dtype=self.classes_.dtype, warn=True)\n"
     ]
    }
   ],
   "source": [
    "l = LabelEncoder()\n",
    "l.fit(X[['Type of Travel']])\n",
    "df['Type of Travel_res'] = l.transform(df[['Type of Travel']])\n",
    "df = df.drop('Type of Travel', axis=1)"
   ]
  },
  {
   "cell_type": "code",
   "execution_count": 6,
   "metadata": {},
   "outputs": [
    {
     "name": "stderr",
     "output_type": "stream",
     "text": [
      "C:\\Users\\ebaa0\\anaconda3\\lib\\site-packages\\sklearn\\preprocessing\\_label.py:134: DataConversionWarning: A column-vector y was passed when a 1d array was expected. Please change the shape of y to (n_samples, ), for example using ravel().\n",
      "  y = column_or_1d(y, dtype=self.classes_.dtype, warn=True)\n"
     ]
    }
   ],
   "source": [
    "\n",
    "l = LabelEncoder()\n",
    "l.fit(y)\n",
    "df['satisfaction_res'] = l.transform(df[['satisfaction']])\n",
    "df = df.drop('satisfaction', axis=1)\n",
    "#df"
   ]
  },
  {
   "cell_type": "code",
   "execution_count": 7,
   "metadata": {},
   "outputs": [
    {
     "name": "stderr",
     "output_type": "stream",
     "text": [
      "C:\\Users\\ebaa0\\anaconda3\\lib\\site-packages\\sklearn\\preprocessing\\_label.py:99: DataConversionWarning: A column-vector y was passed when a 1d array was expected. Please change the shape of y to (n_samples, ), for example using ravel().\n",
      "  y = column_or_1d(y, warn=True)\n",
      "C:\\Users\\ebaa0\\anaconda3\\lib\\site-packages\\sklearn\\preprocessing\\_label.py:134: DataConversionWarning: A column-vector y was passed when a 1d array was expected. Please change the shape of y to (n_samples, ), for example using ravel().\n",
      "  y = column_or_1d(y, dtype=self.classes_.dtype, warn=True)\n"
     ]
    }
   ],
   "source": [
    "l.fit(X[['Customer Type']])\n",
    "df['Customer Type_res'] = l.transform(df[['Customer Type']])\n",
    "df = df.drop('Customer Type', axis=1)"
   ]
  },
  {
   "cell_type": "code",
   "execution_count": 8,
   "metadata": {},
   "outputs": [
    {
     "name": "stderr",
     "output_type": "stream",
     "text": [
      "C:\\Users\\ebaa0\\anaconda3\\lib\\site-packages\\sklearn\\preprocessing\\_label.py:99: DataConversionWarning: A column-vector y was passed when a 1d array was expected. Please change the shape of y to (n_samples, ), for example using ravel().\n",
      "  y = column_or_1d(y, warn=True)\n",
      "C:\\Users\\ebaa0\\anaconda3\\lib\\site-packages\\sklearn\\preprocessing\\_label.py:134: DataConversionWarning: A column-vector y was passed when a 1d array was expected. Please change the shape of y to (n_samples, ), for example using ravel().\n",
      "  y = column_or_1d(y, dtype=self.classes_.dtype, warn=True)\n"
     ]
    }
   ],
   "source": [
    "l.fit(X[['Class']])\n",
    "df['Class_res'] = l.transform(df[['Class']])\n",
    "df = df.drop('Class', axis=1)"
   ]
  },
  {
   "cell_type": "code",
   "execution_count": 9,
   "metadata": {},
   "outputs": [],
   "source": [
    "df = df.drop('id', axis=1)"
   ]
  },
  {
   "cell_type": "code",
   "execution_count": 10,
   "metadata": {},
   "outputs": [
    {
     "data": {
      "text/plain": [
       "Unnamed: 0                             0\n",
       "Age                                    0\n",
       "Flight Distance                        0\n",
       "Inflight wifi service                  0\n",
       "Departure/Arrival time convenient      0\n",
       "Ease of Online booking                 0\n",
       "Gate location                          0\n",
       "Food and drink                         0\n",
       "Online boarding                        0\n",
       "Seat comfort                           0\n",
       "Inflight entertainment                 0\n",
       "On-board service                       0\n",
       "Leg room service                       0\n",
       "Baggage handling                       0\n",
       "Checkin service                        0\n",
       "Inflight service                       0\n",
       "Cleanliness                            0\n",
       "Departure Delay in Minutes             0\n",
       "Arrival Delay in Minutes             310\n",
       "Gender_res                             0\n",
       "Type of Travel_res                     0\n",
       "Customer Type_res                      0\n",
       "Class_res                              0\n",
       "dtype: int64"
      ]
     },
     "execution_count": 10,
     "metadata": {},
     "output_type": "execute_result"
    }
   ],
   "source": [
    "y=df['satisfaction_res']\n",
    "X_ = df.loc[:, df.columns != 'satisfaction_res']\n",
    "X_.isnull().sum()\n",
    "\n"
   ]
  },
  {
   "cell_type": "code",
   "execution_count": 11,
   "metadata": {},
   "outputs": [
    {
     "data": {
      "text/plain": [
       "Unnamed: 0                           0\n",
       "Age                                  0\n",
       "Flight Distance                      0\n",
       "Inflight wifi service                0\n",
       "Departure/Arrival time convenient    0\n",
       "Ease of Online booking               0\n",
       "Gate location                        0\n",
       "Food and drink                       0\n",
       "Online boarding                      0\n",
       "Seat comfort                         0\n",
       "Inflight entertainment               0\n",
       "On-board service                     0\n",
       "Leg room service                     0\n",
       "Baggage handling                     0\n",
       "Checkin service                      0\n",
       "Inflight service                     0\n",
       "Cleanliness                          0\n",
       "Departure Delay in Minutes           0\n",
       "Gender_res                           0\n",
       "Type of Travel_res                   0\n",
       "Customer Type_res                    0\n",
       "Class_res                            0\n",
       "dtype: int64"
      ]
     },
     "execution_count": 11,
     "metadata": {},
     "output_type": "execute_result"
    }
   ],
   "source": [
    "X = X_.dropna(axis=1)\n",
    "X.isnull().sum()"
   ]
  },
  {
   "cell_type": "code",
   "execution_count": 12,
   "metadata": {},
   "outputs": [
    {
     "name": "stdout",
     "output_type": "stream",
     "text": [
      "Accuracy of Decision Tree classifier on training set: 1.00\n",
      "Accuracy of Decision Tree classifier on test set: 0.94\n"
     ]
    }
   ],
   "source": [
    "from sklearn.model_selection import train_test_split\n",
    "from sklearn.tree import DecisionTreeClassifier\n",
    "from sklearn.preprocessing import StandardScaler\n",
    "\n",
    "X_train , X_test, y_train , y_test = train_test_split(X, y, test_size = 0.2)\n",
    "\n",
    "scaler = StandardScaler()\n",
    "X_train_scaled = scaler.fit_transform(X_train)\n",
    "\n",
    "X_test_scaled = scaler.transform(X_test)\n",
    "\n",
    "clf = DecisionTreeClassifier()\n",
    "clf.fit(X_train , y_train)\n",
    "y_predict = clf.predict(X_test)\n",
    "\n",
    "print('Accuracy of Decision Tree classifier on training set: {:.2f}'\n",
    "     .format(clf.score(X_train, y_train)))\n",
    "print('Accuracy of Decision Tree classifier on test set: {:.2f}'\n",
    "     .format(clf.score(X_test, y_test)))"
   ]
  },
  {
   "cell_type": "code",
   "execution_count": 13,
   "metadata": {},
   "outputs": [
    {
     "name": "stdout",
     "output_type": "stream",
     "text": [
      "Accuracy of Decision Tree classifier on training set: 0.98\n",
      "Accuracy of Decision Tree classifier on test set: 0.95\n"
     ]
    }
   ],
   "source": [
    "clf_tree = DecisionTreeClassifier(max_depth =22,min_samples_leaf = 3,\n",
    "                            random_state = 0).fit(X_train, y_train)\n",
    "\n",
    "print('Accuracy of Decision Tree classifier on training set: {:.2f}'\n",
    "     .format(clf_tree.score(X_train, y_train)))\n",
    "print('Accuracy of Decision Tree classifier on test set: {:.2f}'\n",
    "     .format(clf_tree.score(X_test, y_test)))"
   ]
  },
  {
   "cell_type": "code",
   "execution_count": 14,
   "metadata": {},
   "outputs": [
    {
     "name": "stdout",
     "output_type": "stream",
     "text": [
      "Accuracy of Decision Tree classifier on training set: 0.95\n",
      "Accuracy of Decision Tree classifier on test set: 0.94\n"
     ]
    }
   ],
   "source": [
    "clf2 = DecisionTreeClassifier(max_depth = 10).fit(X_train_scaled, y_train)\n",
    "\n",
    "print('Accuracy of Decision Tree classifier on training set: {:.2f}'\n",
    "     .format(clf2.score(X_train_scaled, y_train)))\n",
    "print('Accuracy of Decision Tree classifier on test set: {:.2f}'\n",
    "     .format(clf2.score(X_test_scaled, y_test)))"
   ]
  },
  {
   "cell_type": "code",
   "execution_count": 15,
   "metadata": {},
   "outputs": [
    {
     "name": "stdout",
     "output_type": "stream",
     "text": [
      "Accuracy of Decision Tree with depth  1  classifier on training set: 0.79\n",
      "Accuracy of Decision Tree with depth  1  classifier on test set: 0.79\n",
      "Accuracy of Decision Tree with depth  2  classifier on training set: 0.86\n",
      "Accuracy of Decision Tree with depth  2  classifier on test set: 0.86\n",
      "Accuracy of Decision Tree with depth  3  classifier on training set: 0.88\n",
      "Accuracy of Decision Tree with depth  3  classifier on test set: 0.89\n",
      "Accuracy of Decision Tree with depth  4  classifier on training set: 0.89\n",
      "Accuracy of Decision Tree with depth  4  classifier on test set: 0.89\n",
      "Accuracy of Decision Tree with depth  5  classifier on training set: 0.91\n",
      "Accuracy of Decision Tree with depth  5  classifier on test set: 0.90\n",
      "Accuracy of Decision Tree with depth  6  classifier on training set: 0.92\n",
      "Accuracy of Decision Tree with depth  6  classifier on test set: 0.92\n",
      "Accuracy of Decision Tree with depth  7  classifier on training set: 0.93\n",
      "Accuracy of Decision Tree with depth  7  classifier on test set: 0.93\n",
      "Accuracy of Decision Tree with depth  8  classifier on training set: 0.94\n",
      "Accuracy of Decision Tree with depth  8  classifier on test set: 0.94\n",
      "Accuracy of Decision Tree with depth  9  classifier on training set: 0.94\n",
      "Accuracy of Decision Tree with depth  9  classifier on test set: 0.94\n",
      "Accuracy of Decision Tree with depth  10  classifier on training set: 0.95\n",
      "Accuracy of Decision Tree with depth  10  classifier on test set: 0.94\n",
      "Accuracy of Decision Tree with depth  11  classifier on training set: 0.96\n",
      "Accuracy of Decision Tree with depth  11  classifier on test set: 0.95\n",
      "Accuracy of Decision Tree with depth  12  classifier on training set: 0.96\n",
      "Accuracy of Decision Tree with depth  12  classifier on test set: 0.95\n",
      "Accuracy of Decision Tree with depth  13  classifier on training set: 0.97\n",
      "Accuracy of Decision Tree with depth  13  classifier on test set: 0.95\n",
      "Accuracy of Decision Tree with depth  14  classifier on training set: 0.97\n",
      "Accuracy of Decision Tree with depth  14  classifier on test set: 0.95\n",
      "Accuracy of Decision Tree with depth  15  classifier on training set: 0.98\n",
      "Accuracy of Decision Tree with depth  15  classifier on test set: 0.95\n",
      "Accuracy of Decision Tree with depth  16  classifier on training set: 0.98\n",
      "Accuracy of Decision Tree with depth  16  classifier on test set: 0.95\n"
     ]
    }
   ],
   "source": [
    "for i in range(1,17):\n",
    "    clf2 = DecisionTreeClassifier(max_depth = i).fit(X_train, y_train)\n",
    "\n",
    "    print('Accuracy of Decision Tree with depth ',i,' classifier on training set: {:.2f}'\n",
    "     .format(clf2.score(X_train, y_train)))\n",
    "    print('Accuracy of Decision Tree with depth ',i,' classifier on test set: {:.2f}'\n",
    "     .format(clf2.score(X_test, y_test)))"
   ]
  },
  {
   "cell_type": "code",
   "execution_count": 16,
   "metadata": {},
   "outputs": [
    {
     "data": {
      "text/plain": [
       "array([0.00799736, 0.01437638, 0.01026611, 0.18883323, 0.0030212 ,\n",
       "       0.00242287, 0.01933981, 0.00228211, 0.38586018, 0.01379412,\n",
       "       0.05021979, 0.00529946, 0.0077828 , 0.0133046 , 0.02648322,\n",
       "       0.013916  , 0.00674908, 0.00464659, 0.00065027, 0.15657138,\n",
       "       0.04356377, 0.02261967])"
      ]
     },
     "execution_count": 16,
     "metadata": {},
     "output_type": "execute_result"
    }
   ],
   "source": [
    "clf2.feature_importances_"
   ]
  },
  {
   "cell_type": "code",
   "execution_count": 17,
   "metadata": {},
   "outputs": [
    {
     "data": {
      "text/plain": [
       "0.5651797314854916"
      ]
     },
     "execution_count": 17,
     "metadata": {},
     "output_type": "execute_result"
    }
   ],
   "source": [
    "from sklearn.dummy import DummyClassifier\n",
    "\n",
    "\n",
    "dummy_majority = DummyClassifier(strategy = 'most_frequent').fit(X_train, y_train)\n",
    "y_dummy_predictions = dummy_majority.predict(X_test)\n",
    "dummy_majority.score(X_test, y_test)\n"
   ]
  },
  {
   "cell_type": "code",
   "execution_count": 18,
   "metadata": {},
   "outputs": [
    {
     "name": "stdout",
     "output_type": "stream",
     "text": [
      "Most frequent class (dummy classifier)\n",
      " [[11745     0]\n",
      " [ 9036     0]]\n"
     ]
    }
   ],
   "source": [
    "from sklearn.metrics import confusion_matrix\n",
    "\n",
    "confusion= confusion_matrix(y_test, y_dummy_predictions)\n",
    "\n",
    "print('Most frequent class (dummy classifier)\\n', confusion)"
   ]
  },
  {
   "cell_type": "code",
   "execution_count": 19,
   "metadata": {},
   "outputs": [
    {
     "name": "stdout",
     "output_type": "stream",
     "text": [
      "Random class-proportional prediction (dummy classifier)\n",
      " [[6575 5170]\n",
      " [5180 3856]]\n"
     ]
    }
   ],
   "source": [
    "dummy_classprop = DummyClassifier(strategy='stratified').fit(X_train, y_train)\n",
    "y_classprop_predicted = dummy_classprop.predict(X_test)\n",
    "confusion = confusion_matrix(y_test, y_classprop_predicted)\n",
    "\n",
    "print('Random class-proportional prediction (dummy classifier)\\n', confusion)"
   ]
  },
  {
   "cell_type": "code",
   "execution_count": 20,
   "metadata": {},
   "outputs": [
    {
     "name": "stdout",
     "output_type": "stream",
     "text": [
      "tree classifier\n",
      "  [[11314   431]\n",
      " [  593  8443]]\n"
     ]
    }
   ],
   "source": [
    "tree_predicted = clf_tree.predict(X_test)\n",
    "confusion = confusion_matrix(y_test, tree_predicted)\n",
    "\n",
    "print('tree classifier\\n ', confusion)"
   ]
  },
  {
   "cell_type": "code",
   "execution_count": 21,
   "metadata": {},
   "outputs": [],
   "source": [
    "from sklearn.linear_model import LogisticRegression\n",
    "\n",
    "clf_LogisticRegression = LogisticRegression(solver='liblinear').fit(X_train,y_train)"
   ]
  },
  {
   "cell_type": "code",
   "execution_count": null,
   "metadata": {},
   "outputs": [
    {
     "data": {
      "text/plain": [
       "array([0, 1, 0, ..., 0, 1, 0])"
      ]
     },
     "execution_count": 22,
     "metadata": {},
     "output_type": "execute_result"
    }
   ],
   "source": [
    "y_predict = clf_LogisticRegression.predict(X_test)\n",
    "y_predict"
   ]
  },
  {
   "cell_type": "code",
   "execution_count": null,
   "metadata": {},
   "outputs": [
    {
     "data": {
      "text/plain": [
       "array([[0.90769168, 0.09230832],\n",
       "       [0.47561956, 0.52438044],\n",
       "       [0.74393686, 0.25606314],\n",
       "       ...,\n",
       "       [0.98627997, 0.01372003],\n",
       "       [0.0768086 , 0.9231914 ],\n",
       "       [0.78320691, 0.21679309]])"
      ]
     },
     "execution_count": 23,
     "metadata": {},
     "output_type": "execute_result"
    }
   ],
   "source": [
    "y_predict_prob = clf_LogisticRegression.predict_proba(X_test)\n",
    "y_predict_prob"
   ]
  },
  {
   "cell_type": "code",
   "execution_count": null,
   "metadata": {},
   "outputs": [
    {
     "name": "stdout",
     "output_type": "stream",
     "text": [
      "Accuracy of Logistic regression classifier on train set: 0.865572705508704\n",
      "Accuracy of Logistic regression classifier on test set: 0.8651652952215967\n"
     ]
    }
   ],
   "source": [
    "print('Accuracy of Logistic regression classifier on train set:' , clf_LogisticRegression.score(X_train, y_train))\n",
    "print('Accuracy of Logistic regression classifier on test set:' , clf_LogisticRegression.score(X_test, y_test))"
   ]
  },
  {
   "cell_type": "code",
   "execution_count": null,
   "metadata": {},
   "outputs": [
    {
     "name": "stdout",
     "output_type": "stream",
     "text": [
      "Accuracy of Logistic regression classifier on test set: 0.8304681014881561\n",
      "Accuracy of Logistic regression classifier on test set: 0.8295077234011837\n"
     ]
    },
    {
     "name": "stderr",
     "output_type": "stream",
     "text": [
      "C:\\Users\\ebaa0\\anaconda3\\lib\\site-packages\\sklearn\\base.py:420: UserWarning: X does not have valid feature names, but LogisticRegression was fitted with feature names\n",
      "  warnings.warn(\n",
      "C:\\Users\\ebaa0\\anaconda3\\lib\\site-packages\\sklearn\\base.py:420: UserWarning: X does not have valid feature names, but LogisticRegression was fitted with feature names\n",
      "  warnings.warn(\n"
     ]
    }
   ],
   "source": [
    "\n",
    "clf = LogisticRegression().fit(X_train_scaled, y_train)\n",
    "\n",
    "print('Accuracy of Logistic regression classifier on test set:' , clf_LogisticRegression.score(X_train_scaled, y_train))\n",
    "print('Accuracy of Logistic regression classifier on test set:' , clf_LogisticRegression.score(X_test_scaled, y_test))"
   ]
  },
  {
   "cell_type": "code",
   "execution_count": null,
   "metadata": {},
   "outputs": [
    {
     "name": "stdout",
     "output_type": "stream",
     "text": [
      "tree classifier\n",
      "  [[10442  1296]\n",
      " [ 1506  7537]]\n"
     ]
    }
   ],
   "source": [
    "LogisticRegression_predicted = clf_LogisticRegression.predict(X_test)\n",
    "confusion = confusion_matrix(y_test, LogisticRegression_predicted)\n",
    "\n",
    "print('tree classifier\\n ', confusion)"
   ]
  },
  {
   "cell_type": "code",
   "execution_count": null,
   "metadata": {},
   "outputs": [
    {
     "name": "stdout",
     "output_type": "stream",
     "text": [
      "              precision    recall  f1-score   support\n",
      "\n",
      "       not 1       0.95      0.96      0.95     11738\n",
      "           1       0.95      0.93      0.94      9043\n",
      "\n",
      "    accuracy                           0.95     20781\n",
      "   macro avg       0.95      0.95      0.95     20781\n",
      "weighted avg       0.95      0.95      0.95     20781\n",
      "\n"
     ]
    }
   ],
   "source": [
    "from sklearn.metrics import classification_report\n",
    "\n",
    "print(classification_report(y_test, tree_predicted, target_names=['not 1', '1']))"
   ]
  },
  {
   "cell_type": "code",
   "execution_count": null,
   "metadata": {},
   "outputs": [
    {
     "name": "stdout",
     "output_type": "stream",
     "text": [
      "              precision    recall  f1-score   support\n",
      "\n",
      "       not 1       0.87      0.89      0.88     11738\n",
      "           1       0.85      0.83      0.84      9043\n",
      "\n",
      "    accuracy                           0.87     20781\n",
      "   macro avg       0.86      0.86      0.86     20781\n",
      "weighted avg       0.86      0.87      0.86     20781\n",
      "\n"
     ]
    }
   ],
   "source": [
    "from sklearn.metrics import classification_report\n",
    "\n",
    "print(classification_report(y_test, LogisticRegression_predicted, target_names=['not 1', '1']))"
   ]
  },
  {
   "cell_type": "code",
   "execution_count": null,
   "metadata": {},
   "outputs": [
    {
     "name": "stdout",
     "output_type": "stream",
     "text": [
      "Accuracy: 0.8178624705259612\n"
     ]
    }
   ],
   "source": [
    "from sklearn.naive_bayes import GaussianNB\n",
    "from sklearn.model_selection import train_test_split\n",
    "from sklearn.metrics import accuracy_score\n",
    "# Create a Naïve Bayes classifier\n",
    "nb_classifier = GaussianNB()\n",
    "\n",
    "# Train the classifier\n",
    "nb_classifier.fit(X_train, y_train)\n",
    "\n",
    "# Make predictions on the test set\n",
    "y_nbpred = nb_classifier.predict(X_test)\n",
    "\n",
    "# Calculate accuracy of the classifier\n",
    "accuracy = accuracy_score(y_test, y_nbpred)\n",
    "print(\"Accuracy:\", accuracy)"
   ]
  },
  {
   "cell_type": "code",
   "execution_count": null,
   "metadata": {},
   "outputs": [
    {
     "name": "stdout",
     "output_type": "stream",
     "text": [
      "Accuracy: 0.9427361532168808\n"
     ]
    }
   ],
   "source": [
    "from sklearn.ensemble import GradientBoostingClassifier\n",
    "from sklearn.model_selection import train_test_split\n",
    "from sklearn.metrics import accuracy_score\n",
    "gb_classifier = GradientBoostingClassifier()\n",
    "\n",
    "# Train the classifier\n",
    "gb_classifier.fit(X_train, y_train)\n",
    "\n",
    "# Make predictions on the test set\n",
    "y_gbpred = gb_classifier.predict(X_test)\n",
    "\n",
    "# Calculate accuracy of the classifier\n",
    "accuracy = accuracy_score(y_test, y_gbpred)\n",
    "print(\"Accuracy:\", accuracy)"
   ]
  },
  {
   "cell_type": "code",
   "execution_count": null,
   "metadata": {},
   "outputs": [],
   "source": []
  }
 ],
 "metadata": {
  "kernelspec": {
   "display_name": "Python 3 (ipykernel)",
   "language": "python",
   "name": "python3"
  },
  "language_info": {
   "codemirror_mode": {
    "name": "ipython",
    "version": 3
   },
   "file_extension": ".py",
   "mimetype": "text/x-python",
   "name": "python",
   "nbconvert_exporter": "python",
   "pygments_lexer": "ipython3",
   "version": "3.10.9"
  }
 },
 "nbformat": 4,
 "nbformat_minor": 2
}
